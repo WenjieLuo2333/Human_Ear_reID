{
 "cells": [
  {
   "cell_type": "code",
   "execution_count": 1,
   "metadata": {},
   "outputs": [
    {
     "name": "stderr",
     "output_type": "stream",
     "text": [
      "Using TensorFlow backend.\n"
     ]
    }
   ],
   "source": [
    "from __future__ import division\n",
    "import os\n",
    "import cv2\n",
    "import numpy as np\n",
    "import pandas as pd\n",
    "import sys\n",
    "import pickle\n",
    "from optparse import OptionParser\n",
    "import time\n",
    "from keras_frcnn import config\n",
    "from keras import backend as K\n",
    "from keras.layers import Input\n",
    "from keras.models import Model\n",
    "from keras_frcnn import roi_helpers"
   ]
  },
  {
   "cell_type": "code",
   "execution_count": 17,
   "metadata": {},
   "outputs": [],
   "source": [
    "po_path = '../positive_pairs.txt'\n",
    "ne_path = '../negative_pairs.txt'\n"
   ]
  },
  {
   "cell_type": "code",
   "execution_count": 12,
   "metadata": {},
   "outputs": [],
   "source": [
    "f = open(po_path)\n",
    "data = []\n",
    "line = f.readline()\n",
    "while line:\n",
    "    line = line.strip().split(',')\n",
    "    line[3] = int(line[3])\n",
    "    data.append(line)\n",
    "    line = f.readline()\n",
    "f.close()\n",
    "\n",
    "\n",
    "f = open(ne_path)\n",
    "line = f.readline()\n",
    "while line:\n",
    "    line = line.strip().split(',')\n",
    "    line[3] = int(line[3])\n",
    "    data.append(line)\n",
    "    line = f.readline()\n",
    "f.close()\n",
    "\n",
    "data_df = pd.DataFrame(data,columns=['Img1', 'Valid_Img', 'Img2', 'Target'])"
   ]
  },
  {
   "cell_type": "code",
   "execution_count": 15,
   "metadata": {},
   "outputs": [],
   "source": [
    "data_df.to_csv('Mixed_Df.csv')"
   ]
  },
  {
   "cell_type": "code",
   "execution_count": 7,
   "metadata": {},
   "outputs": [],
   "source": [
    "po_path = '../po_easy_pairs_l.txt'\n",
    "ne_path = '../ne_easy_pairs_l.txt'"
   ]
  },
  {
   "cell_type": "code",
   "execution_count": 8,
   "metadata": {},
   "outputs": [],
   "source": [
    "f = open(po_path)\n",
    "data = []\n",
    "line = f.readline()\n",
    "while line:\n",
    "    line = line.strip().split(',')\n",
    "    line[2] = int(line[2])\n",
    "    data.append(line)\n",
    "    line = f.readline()\n",
    "f.close()\n",
    "\n",
    "\n",
    "f = open(ne_path)\n",
    "line = f.readline()\n",
    "while line:\n",
    "    line = line.strip().split(',')\n",
    "    line[2] = int(line[2])\n",
    "    data.append(line)\n",
    "    line = f.readline()\n",
    "f.close()\n",
    "\n",
    "data_df = pd.DataFrame(data,columns=['Img1', 'Img2', 'Target'])"
   ]
  },
  {
   "cell_type": "code",
   "execution_count": 9,
   "metadata": {},
   "outputs": [],
   "source": [
    "data_df.to_csv('easy_more2.csv')"
   ]
  },
  {
   "cell_type": "code",
   "execution_count": null,
   "metadata": {},
   "outputs": [],
   "source": []
  }
 ],
 "metadata": {
  "kernelspec": {
   "display_name": "Python (3.6env)",
   "language": "python",
   "name": "3.6env"
  },
  "language_info": {
   "codemirror_mode": {
    "name": "ipython",
    "version": 3
   },
   "file_extension": ".py",
   "mimetype": "text/x-python",
   "name": "python",
   "nbconvert_exporter": "python",
   "pygments_lexer": "ipython3",
   "version": "3.6.8"
  }
 },
 "nbformat": 4,
 "nbformat_minor": 2
}
